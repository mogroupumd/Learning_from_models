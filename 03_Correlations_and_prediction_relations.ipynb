{
 "cells": [
  {
   "cell_type": "code",
   "execution_count": 1,
   "id": "95e45dcc-950a-426b-9c7b-3be411ddca5a",
   "metadata": {},
   "outputs": [],
   "source": [
    "## Setting up environments\n",
    "import os\n",
    "import json\n",
    "import numpy as np\n",
    "import pandas as pds\n",
    "from copy import deepcopy\n",
    "from random import shuffle, randint, uniform\n",
    "\n",
    "import matplotlib\n",
    "import matplotlib.pyplot as plt\n",
    "from mpl_toolkits.axes_grid1.inset_locator import inset_axes\n",
    "%matplotlib inline"
   ]
  },
  {
   "cell_type": "markdown",
   "id": "1f138960-c6a2-45df-bd2f-9d7940febcb1",
   "metadata": {},
   "source": [
    "**Note**: networkx, scipy, and scikit-learn packages are needed in this demonstration"
   ]
  },
  {
   "cell_type": "code",
   "execution_count": 2,
   "id": "ace0a83c-f352-4b0e-8687-edba58d9d244",
   "metadata": {},
   "outputs": [],
   "source": [
    "import sys\n",
    "sys.path.insert(0, './')\n",
    "from Pareto import *\n",
    "from basics import *\n",
    "from network_mvc import *\n",
    "\n",
    "matplotlib.rcParams['font.family'] = \"Sans-serif\"\n",
    "matplotlib.rcParams['font.serif'] = \"Arial\" # Helvetica\n",
    "matplotlib.rcParams['font.style'] = \"normal\"\n",
    "matplotlib.rcParams['font.weight'] = 'light'\n",
    "matplotlib.rcParams['mathtext.fontset'] = \"custom\"\n",
    "matplotlib.rcParams['mathtext.rm'] = \"Arial\""
   ]
  },
  {
   "cell_type": "code",
   "execution_count": 3,
   "id": "434b5593-062b-4400-b273-b0b8a29342f3",
   "metadata": {},
   "outputs": [],
   "source": [
    "## To construct graphs\n",
    "import networkx as nx\n",
    "## To calculate correlations\n",
    "from scipy.stats import pearsonr"
   ]
  },
  {
   "cell_type": "markdown",
   "id": "d5773270-f820-4289-a233-7c067aed72c9",
   "metadata": {},
   "source": [
    "# 1. Correlation graphs and identify representative properties\n",
    "&emsp; Here we first construct the correlation graphs of property errors (the normalized error metrics) and then identify the representative properties.  \n",
    "\n",
    " - **Why correlation graphs?**  \n",
    "   &emsp; Correlations of the error metrics for properties are critical to develop MLIP models which can reproduce accurate physical phenomenon. In general, correlated properties may not necessarily lead to correlated errors, and vice versa, e.g., two independent sensors in the same wind tunnel often have correlated readouts but their errors are not correlated. The correlations of error metrics of properties here may be caused by both the connections of physical procedures (like the heat conduction, the diffusion, and the atom vibration), and the choices of MLIP models, descriptors, or even training data. Therefore, to reproduce accurate physical phenomenon, learning and comparing the correlations of error metrics of properties for different MLIPs will be important.  \n",
    "   &emsp; The correlations of error metrics in the graphs are calculated using Pearson's correlation coefficient *r* in scipy package. We choose a threshold $r^{\\mathrm{2}}$ > 0.6, which is typically interpreted as strong correlations and corresponds to $|r|$ slightly lower than 0.8, and use these high correlations to construct the graphs. The produced figure here follows the scheme in *Figure 7* and *Supplementary Figure S8*.  \n",
    "   \n",
    " - **Why to select representative properties?**  \n",
    "   &emsp; If a group of properties are strongly correlated with each other, there only needs a few of those properties to represent the whole group. This largely reduces the burden of analyses and simplifies the understanding and the strategy to train better MLIPs. Computationally, it can be beneficial especially if the simulation-based properties (which require running many simulations by the finalized models) can be represented by other simple properties that are cheap to compute. Further, using representative properties and reducing the property number can prevent 'property inflation', which duplicates several correlated property errors of similar performances and can be misleading for interpretation.\n",
    "   \n",
    " - **How to select representative properties?**  \n",
    "   &emsp; Here we use a customized recursive function $simplePageRankMVC$ in `network_mvc.py` to select representative properties. This function basically mimics the process of [minimum vertex cover (MVC)](https://en.wikipedia.org/wiki/Vertex_cover) in graph algorithm, but it selects the representative properties (the nodes in correlation graphs) if they connect with, or cover, all nodes. Detailed steps of the function are provided in the methods section in the main text. However, it's worthwhile to **emphasize** that this function differs from typical MVC since it neglects the need of covering all edges and <u>it should not be considered as an MVC algorithm</u>."
   ]
  },
  {
   "cell_type": "code",
   "execution_count": 4,
   "id": "6dabfa23-9bbd-4d04-a866-f5cd4a7adbe2",
   "metadata": {},
   "outputs": [
    {
     "data": {
      "text/html": [
       "<div>\n",
       "<style scoped>\n",
       "    .dataframe tbody tr th:only-of-type {\n",
       "        vertical-align: middle;\n",
       "    }\n",
       "\n",
       "    .dataframe tbody tr th {\n",
       "        vertical-align: top;\n",
       "    }\n",
       "\n",
       "    .dataframe thead th {\n",
       "        text-align: right;\n",
       "    }\n",
       "</style>\n",
       "<table border=\"1\" class=\"dataframe\">\n",
       "  <thead>\n",
       "    <tr style=\"text-align: right;\">\n",
       "      <th></th>\n",
       "      <th>Models</th>\n",
       "      <th>ModelName</th>\n",
       "      <th>SelectionType</th>\n",
       "      <th>TrainingData</th>\n",
       "      <th>hex_Ef</th>\n",
       "      <th>spl_Ef</th>\n",
       "      <th>tet_Ef</th>\n",
       "      <th>vac_Ef</th>\n",
       "      <th>spl_c11</th>\n",
       "      <th>spl_c12</th>\n",
       "      <th>...</th>\n",
       "      <th>Vacancy_enhanced_E</th>\n",
       "      <th>Vacancy_enhanced_F</th>\n",
       "      <th>Vacancy_RE_E</th>\n",
       "      <th>Vacancy_RE_F</th>\n",
       "      <th>bulk_free_energy</th>\n",
       "      <th>bulk_entropy</th>\n",
       "      <th>bulk_heat_capacity</th>\n",
       "      <th>vacancy_free_energy</th>\n",
       "      <th>vacancy_entropy</th>\n",
       "      <th>vacancy_heat_capacity</th>\n",
       "    </tr>\n",
       "  </thead>\n",
       "  <tbody>\n",
       "    <tr>\n",
       "      <th>0</th>\n",
       "      <td>DFT</td>\n",
       "      <td>Threshold</td>\n",
       "      <td>NaN</td>\n",
       "      <td>NaN</td>\n",
       "      <td>0.504750</td>\n",
       "      <td>0.855112</td>\n",
       "      <td>-0.060705</td>\n",
       "      <td>-0.280528</td>\n",
       "      <td>-0.953033</td>\n",
       "      <td>-0.778269</td>\n",
       "      <td>...</td>\n",
       "      <td>0.236210</td>\n",
       "      <td>-0.761779</td>\n",
       "      <td>0.988656</td>\n",
       "      <td>-1.160869</td>\n",
       "      <td>-0.901101</td>\n",
       "      <td>-1.023010</td>\n",
       "      <td>-0.904197</td>\n",
       "      <td>0.029467</td>\n",
       "      <td>0.226656</td>\n",
       "      <td>0.411471</td>\n",
       "    </tr>\n",
       "    <tr>\n",
       "      <th>1</th>\n",
       "      <td>GAP</td>\n",
       "      <td>183-3</td>\n",
       "      <td>s</td>\n",
       "      <td>Org</td>\n",
       "      <td>0.780239</td>\n",
       "      <td>0.611954</td>\n",
       "      <td>0.804912</td>\n",
       "      <td>-1.120803</td>\n",
       "      <td>-0.288999</td>\n",
       "      <td>-0.790659</td>\n",
       "      <td>...</td>\n",
       "      <td>-1.175896</td>\n",
       "      <td>-1.307301</td>\n",
       "      <td>-0.480432</td>\n",
       "      <td>-1.149233</td>\n",
       "      <td>-1.401489</td>\n",
       "      <td>-1.171511</td>\n",
       "      <td>-1.077526</td>\n",
       "      <td>-1.658051</td>\n",
       "      <td>-1.715457</td>\n",
       "      <td>-0.614198</td>\n",
       "    </tr>\n",
       "    <tr>\n",
       "      <th>2</th>\n",
       "      <td>GAP</td>\n",
       "      <td>189-5</td>\n",
       "      <td>s</td>\n",
       "      <td>Org</td>\n",
       "      <td>0.850402</td>\n",
       "      <td>0.600587</td>\n",
       "      <td>0.770690</td>\n",
       "      <td>-1.107595</td>\n",
       "      <td>-0.271309</td>\n",
       "      <td>-0.618390</td>\n",
       "      <td>...</td>\n",
       "      <td>-1.219224</td>\n",
       "      <td>-1.348496</td>\n",
       "      <td>-0.524035</td>\n",
       "      <td>-1.198054</td>\n",
       "      <td>-0.922067</td>\n",
       "      <td>-0.831668</td>\n",
       "      <td>-0.992529</td>\n",
       "      <td>-1.102494</td>\n",
       "      <td>-0.823288</td>\n",
       "      <td>-0.556851</td>\n",
       "    </tr>\n",
       "    <tr>\n",
       "      <th>3</th>\n",
       "      <td>GAP</td>\n",
       "      <td>341-5</td>\n",
       "      <td>r</td>\n",
       "      <td>Org</td>\n",
       "      <td>0.523894</td>\n",
       "      <td>0.261400</td>\n",
       "      <td>0.071620</td>\n",
       "      <td>-0.302134</td>\n",
       "      <td>-0.177400</td>\n",
       "      <td>-0.673296</td>\n",
       "      <td>...</td>\n",
       "      <td>-0.721812</td>\n",
       "      <td>-0.769159</td>\n",
       "      <td>-0.099455</td>\n",
       "      <td>-0.823599</td>\n",
       "      <td>-1.760735</td>\n",
       "      <td>-1.822453</td>\n",
       "      <td>-0.888281</td>\n",
       "      <td>0.020416</td>\n",
       "      <td>0.173741</td>\n",
       "      <td>0.247983</td>\n",
       "    </tr>\n",
       "    <tr>\n",
       "      <th>4</th>\n",
       "      <td>GAP</td>\n",
       "      <td>58-2</td>\n",
       "      <td>r</td>\n",
       "      <td>Org</td>\n",
       "      <td>-0.112582</td>\n",
       "      <td>0.305990</td>\n",
       "      <td>0.316971</td>\n",
       "      <td>-0.145629</td>\n",
       "      <td>-0.351548</td>\n",
       "      <td>-0.823457</td>\n",
       "      <td>...</td>\n",
       "      <td>-0.909181</td>\n",
       "      <td>-1.040954</td>\n",
       "      <td>-0.194338</td>\n",
       "      <td>-0.850400</td>\n",
       "      <td>-1.379172</td>\n",
       "      <td>-1.105195</td>\n",
       "      <td>-0.913820</td>\n",
       "      <td>-1.769730</td>\n",
       "      <td>-1.191872</td>\n",
       "      <td>-0.632313</td>\n",
       "    </tr>\n",
       "  </tbody>\n",
       "</table>\n",
       "<p>5 rows × 64 columns</p>\n",
       "</div>"
      ],
      "text/plain": [
       "  Models  ModelName SelectionType TrainingData    hex_Ef    spl_Ef    tet_Ef  \\\n",
       "0    DFT  Threshold           NaN          NaN  0.504750  0.855112 -0.060705   \n",
       "1    GAP      183-3             s          Org  0.780239  0.611954  0.804912   \n",
       "2    GAP      189-5             s          Org  0.850402  0.600587  0.770690   \n",
       "3    GAP      341-5             r          Org  0.523894  0.261400  0.071620   \n",
       "4    GAP       58-2             r          Org -0.112582  0.305990  0.316971   \n",
       "\n",
       "     vac_Ef   spl_c11   spl_c12  ...  Vacancy_enhanced_E  Vacancy_enhanced_F  \\\n",
       "0 -0.280528 -0.953033 -0.778269  ...            0.236210           -0.761779   \n",
       "1 -1.120803 -0.288999 -0.790659  ...           -1.175896           -1.307301   \n",
       "2 -1.107595 -0.271309 -0.618390  ...           -1.219224           -1.348496   \n",
       "3 -0.302134 -0.177400 -0.673296  ...           -0.721812           -0.769159   \n",
       "4 -0.145629 -0.351548 -0.823457  ...           -0.909181           -1.040954   \n",
       "\n",
       "   Vacancy_RE_E  Vacancy_RE_F  bulk_free_energy  bulk_entropy  \\\n",
       "0      0.988656     -1.160869         -0.901101     -1.023010   \n",
       "1     -0.480432     -1.149233         -1.401489     -1.171511   \n",
       "2     -0.524035     -1.198054         -0.922067     -0.831668   \n",
       "3     -0.099455     -0.823599         -1.760735     -1.822453   \n",
       "4     -0.194338     -0.850400         -1.379172     -1.105195   \n",
       "\n",
       "   bulk_heat_capacity  vacancy_free_energy  vacancy_entropy  \\\n",
       "0           -0.904197             0.029467         0.226656   \n",
       "1           -1.077526            -1.658051        -1.715457   \n",
       "2           -0.992529            -1.102494        -0.823288   \n",
       "3           -0.888281             0.020416         0.173741   \n",
       "4           -0.913820            -1.769730        -1.191872   \n",
       "\n",
       "   vacancy_heat_capacity  \n",
       "0               0.411471  \n",
       "1              -0.614198  \n",
       "2              -0.556851  \n",
       "3               0.247983  \n",
       "4              -0.632313  \n",
       "\n",
       "[5 rows x 64 columns]"
      ]
     },
     "execution_count": 4,
     "metadata": {},
     "output_type": "execute_result"
    }
   ],
   "source": [
    "\"\"\"\n",
    "    Load necessary information 1\n",
    "\"\"\"\n",
    "## Get the color for each type of MLIP\n",
    "modelcolor = {}\n",
    "for m, n in zip(model_label_csv['Models'], model_label_csv['Color']):\n",
    "    modelcolor[m] = n\n",
    "\n",
    "## Get the color for each category of properties\n",
    "propertycolor = {}\n",
    "for m, n in zip(category_label_csv['Categories'], category_label_csv['color']):\n",
    "    propertycolor[m] = n\n",
    "\n",
    "## We need normalized log errors to calculate correlations\n",
    "norm_log_data = pds.read_csv('data/normalized_log_errors.csv').drop(columns=['Unnamed: 0'])\n",
    "norm_log_data.head()"
   ]
  },
  {
   "cell_type": "code",
   "execution_count": 5,
   "id": "68d9a753-6dc9-42b0-9b5b-38c60d8962bb",
   "metadata": {},
   "outputs": [],
   "source": [
    "\"\"\"\n",
    "    Load necessary information 2\n",
    "\"\"\"\n",
    "## Get the color for each property\n",
    "properties = [n for n in property_label_csv['Properties']]\n",
    "node_color = []\n",
    "for p, c in zip(properties, property_label_csv['Category']):\n",
    "    node_color.append(propertycolor[c])"
   ]
  },
  {
   "cell_type": "code",
   "execution_count": 6,
   "id": "d30960f5-5d75-431f-988d-80be595bf51b",
   "metadata": {},
   "outputs": [],
   "source": [
    "mlip = 'full' ## the selected type of MLIP\n",
    "\n",
    "if mlip.lower()=='full':\n",
    "    df = deepcopy(norm_log_data) ## all MLIPs\n",
    "else:\n",
    "    df = norm_log_data.loc[norm_log_data['Models']==mlip]\n",
    "\n",
    "## the correlation matrix\n",
    "## all pearson correlation's r2 values\n",
    "corr_matrix = np.ones((len(properties), len(properties)))\n",
    "for ipx, px in enumerate(properties):\n",
    "    for ipy, py in enumerate(properties):\n",
    "        if ipx!=ipy:\n",
    "            ## Pearson's r\n",
    "            r, _ = pearsonr(df[px], df[py])\n",
    "            corr_matrix[ipx][ipy] = r**2"
   ]
  },
  {
   "cell_type": "markdown",
   "id": "d784f994-a87a-40c1-b621-73f282da7846",
   "metadata": {},
   "source": [
    "**Note**: after this step, we directly load calculated data of representative properties and draw correlation graphs if one doesn't want to do the calculations. <u>Simply skip to the cell which opens json files below</u>."
   ]
  },
  {
   "cell_type": "code",
   "execution_count": 7,
   "id": "40adefad-1a64-4289-8b06-8e7589a7e820",
   "metadata": {},
   "outputs": [],
   "source": [
    "## Only connect the properties whose r2 > threshold\n",
    "threshold = 0.6 \n",
    "\n",
    "## Construct the property correlation graph\n",
    "base = nx.Graph()\n",
    "base.add_nodes_from(properties, color=node_color)\n",
    "for ipx, px in enumerate(properties[:-1]):\n",
    "    for py in properties[ipx+1:]:\n",
    "        ipy = properties.index(py)\n",
    "        r2 = corr_matrix[ipx][ipy]\n",
    "        if r2>threshold:\n",
    "            base.add_edge(px, py, r2=r2)"
   ]
  },
  {
   "cell_type": "markdown",
   "id": "a536b177-8c3b-4e32-86bf-73fa69286ebb",
   "metadata": {},
   "source": [
    "**Note**: for representative properties, the isolated properties (the isolated nodes in graphs) are <u>*representative*</u> as well, since no other property can approximate, or <u>*represent*</u>, them. Therefore, in the final set, we need to include these isolated properties in each recursive iteration."
   ]
  },
  {
   "cell_type": "code",
   "execution_count": 8,
   "id": "b9dabf0c-2758-4b19-97d4-c1fd1e9a1444",
   "metadata": {},
   "outputs": [
    {
     "name": "stdout",
     "output_type": "stream",
     "text": [
      "Cleaned: 50 (check consistency)\n",
      "Selected: 11\n",
      "Isolated: 10\n",
      "All: 60\n",
      "Representative: 21\n"
     ]
    }
   ],
   "source": [
    "## Compute the representative properties\n",
    "selected_nodes = []\n",
    "isolated_nodes = []\n",
    "cleaned_graph, isolated_nodes = cleanGraph(base)\n",
    "## Double check:\n",
    "## N_cleaned + N_isolated = N_all\n",
    "## N_selected + N_isolated = N_representative\n",
    "print('Cleaned:', len(cleaned_graph.nodes), '(check consistency)')\n",
    "selected_nodes = deepcopy(simplePageRankMVC(cleaned_graph, mvc_list=[])) ## <-- here's the key algorithm :-)\n",
    "print('Selected:', len(selected_nodes))\n",
    "print('Isolated:', len(isolated_nodes))\n",
    "print('All:', len(base.nodes))\n",
    "\n",
    "## all selected and isolated nodes are representative\n",
    "for iso in isolated_nodes:\n",
    "    selected_nodes.append(iso)\n",
    "print('Representative:', len(selected_nodes))"
   ]
  },
  {
   "cell_type": "code",
   "execution_count": 53,
   "id": "9bba042b-c0bb-4972-ad0a-0623641a4223",
   "metadata": {},
   "outputs": [],
   "source": [
    "## Get the coordinates of all nodes\n",
    "pos = nx.nx_agraph.graphviz_layout(base, prog=\"neato\", args=\"-Gmaxiter=100\")\n",
    "\n",
    "## Get the coordinates of representative properties\n",
    "rep_pos = {}\n",
    "for node in selected_nodes:\n",
    "    rep_pos[node] = pos[node]"
   ]
  },
  {
   "cell_type": "code",
   "execution_count": 54,
   "id": "14cf8a40-e4cc-47cd-8d83-3eed3b2ba8a1",
   "metadata": {},
   "outputs": [],
   "source": [
    "## Store the coordinates and correlation matrix\n",
    "## because 'neato' generates random coordinates\n",
    "outfile = 'data/Fig7/{}_rep.json'.format(mlip)\n",
    "output = open(outfile, 'w')\n",
    "json.dump([pos, rep_pos, corr_matrix.tolist()], output)\n",
    "output.close()"
   ]
  },
  {
   "cell_type": "code",
   "execution_count": 55,
   "id": "edd69ddc-3047-453e-9884-6fd6160c6902",
   "metadata": {},
   "outputs": [],
   "source": [
    "\"\"\"\n",
    "    We can skip the above steps and draw graphs directly here.\n",
    "\"\"\"\n",
    " \n",
    "with open('data/Fig7/{}_rep.json'.format(mlip), 'r') as file:\n",
    "    total_pos, repre_pos, corr = json.load(file)\n",
    "file.close()"
   ]
  },
  {
   "cell_type": "code",
   "execution_count": 56,
   "id": "070a2038-d376-4cc5-b98c-d296e22bd904",
   "metadata": {},
   "outputs": [],
   "source": [
    "## the graph of all properties\n",
    "threshold = 0.6 \n",
    "new = nx.Graph()\n",
    "new.add_nodes_from(properties, color=node_color)\n",
    "for ipx, px in enumerate(properties[:-1]):\n",
    "    for py in properties[ipx+1:]:\n",
    "        ipy = properties.index(py)\n",
    "        r2 = corr[ipx][ipy]\n",
    "        ## only connect properties having r2 > threshold\n",
    "        if r2>threshold:\n",
    "            new.add_edge(px, py, r2=r2)"
   ]
  },
  {
   "cell_type": "code",
   "execution_count": 57,
   "id": "cf28e55d-7ea1-4d3d-9e49-7aecbe0f6da7",
   "metadata": {},
   "outputs": [],
   "source": [
    "## the graph of representative properties\n",
    "## Get the colors of representative nodes\n",
    "rep_color = []\n",
    "for node in repre_pos.keys():\n",
    "    pi = properties.index(node)\n",
    "    c = property_label_csv['Category'][pi]\n",
    "    rep_color.append(propertycolor[c])\n",
    "\n",
    "rep = nx.Graph() ## graph of representative nodes\n",
    "rep.add_nodes_from(repre_pos, color=rep_color)"
   ]
  },
  {
   "cell_type": "markdown",
   "id": "23eebccc-6183-48ac-9482-55b0da0fe673",
   "metadata": {},
   "source": [
    "The produced figure here follows the scheme in *Figure 7* and *Supplementary Figure S8*."
   ]
  },
  {
   "cell_type": "code",
   "execution_count": 58,
   "id": "8129dafe-a6a2-4b10-aa07-829982850b00",
   "metadata": {},
   "outputs": [
    {
     "name": "stdout",
     "output_type": "stream",
     "text": [
      "X: 32 710\n",
      "Y: 18 710\n"
     ]
    },
    {
     "data": {
      "image/png": "[encoded data removed]",
      "text/plain": [
       "<Figure size 540x480 with 1 Axes>"
      ]
     },
     "metadata": {},
     "output_type": "display_data"
    }
   ],
   "source": [
    "fig = plt.figure(figsize=(1.8, 1.6), dpi=300)\n",
    "ax = plt.subplot(1, 1, 1)\n",
    "\n",
    "## Draw all properties\n",
    "nx.draw_networkx_nodes(new, pos=total_pos, node_size=20, linewidths=0.5,\n",
    "                       node_color=node_color, edgecolors='black')\n",
    "## Draw representative properties (red edges)\n",
    "nx.draw_networkx_nodes(rep, pos=repre_pos, node_size=20, linewidths=1.5,\n",
    "                       node_color=rep_color, edgecolors='red')\n",
    "## Draw relation edges\n",
    "nx.draw_networkx_edges(new, pos=total_pos, width=0.2, alpha=0.7)\n",
    "\n",
    "## Show the coordinates of the graph\n",
    "pos_data = [total_pos[k] for k in total_pos.keys()]\n",
    "print('X:', round(min([n[0] for n in pos_data])), round(max([n[0] for n in pos_data])))\n",
    "print('Y:', round(min([n[1] for n in pos_data])), round(max([n[1] for n in pos_data])))\n",
    "\n",
    "plt.show()\n",
    "plt.clf()\n",
    "plt.close()"
   ]
  },
  {
   "cell_type": "markdown",
   "id": "d393740d-90a6-4123-ad73-f88563ca5b21",
   "metadata": {},
   "source": [
    "# 2. Prediction relation graphs and ranking predictivities\n",
    "&emsp; We analyzed the pairwise correlations of error metrics of properties in previous section. Here, we continue to explore the relations of property errors considering the inter-dependency of error metrics for properties, or the multicollinearity. This is done by using [Lasso](https://scikit-learn.org/stable/modules/linear_model.html#lasso) models, which is a widely used tool to handle multicollinearity because of its regularization. Lasso is a technique known for feature selection and feature shrinkage in machine learning.  \n",
    "  \n",
    "### 2.1 Prediction relation graphs\n",
    "&emsp; The strength of prediction relations is measured by the coefficient of input error metric in Lasso. Similar to the coefficients of logistic regression models for explanation in Notebook 02, the Lasso coefficients describe the importance of property errors when they are used to make predictions, which implies the strength of prediction relations. Given the use of Lasso to handle inter-dependency or multicollinearity of input features, constructing prediction relation graphs of properties using Lasso models provides critical insights when assessing the relations for a large group of properties.    \n",
    "\n",
    "&emsp; In this section, we adopt the following steps (details are in the methods of main text) to obtain the Lasso coefficients and construct the prediction relation graphs of properties:  \n",
    "\n",
    " - <u>**Step 1**: pick a property, take its error metric, and use the error metrics of remaining 59 properties to predict it</u>  \n",
    "   &emsp; Obtain the input data X and output data Y.  \n",
    "   \n",
    " - <u>**Step 2**: fine-tune the hyper-parameter $\\alpha$ of Lasso</u>  \n",
    "   &emsp; Since we choose Lasso, we need to fine-tune its hyper-parameter $\\alpha$ before we train models. We simply use all data in this step without bootstrap resampling or other techniques because we don't aim to use the produced models for predictions and are generally not concerned by achieving the higher prediction scores. This process focuses on producing stable coefficients that will not have large variance to different training data. The detailed procedures are described in the Supporting Information.  \n",
    "   \n",
    " - <u>**Step 3**: fit Lasso models and obtain stable coefficients</u>  \n",
    "   &emsp; To reduce the variance of coefficients in Lasso models due to training data overfitting, we adopt a bootstrap resampling process and train a series of Lasso models with different training data. In this resampling process, we have 20 resampling iterations. We randomly select 2/3 of all data as training data and leave the remaining 1/3 as testing data in each iteration. All Lasso models trained by different resampled datasets use the same selected $\\alpha$ from previous step (2). We also collect the $R^{\\mathrm{2}}$ score on testing data to evaluate the effectiveness of the trained Lasso model.  \n",
    "   \n",
    " - <u>**Step 4**: take the average of Lasso coefficients</u>  \n",
    "   &emsp; After 20 resampling steps, we train 20 Lasso models and take the average of their coefficients as the feature importances of input error metrics. We also take the average of $R^{\\mathrm{2}}$ scores to evaluate how reliable these coefficients are. The higher the $R^{\\mathrm{2}}$ scores are, the more likely these coefficients are to reflect the true importance of these error metrics.  \n",
    "  \n",
    "- <u>**Step 5**: iterate step (1) - (4) for all properties</u>  \n",
    "   &emsp; Iteratively setting error metrics of all properties as predicted targets enables us to construct a full prediction relation graph which describes how important each error metric is when used to predict the others.  "
   ]
  },
  {
   "cell_type": "code",
   "execution_count": 9,
   "id": "17ebe744-7199-4c4d-a2fc-3c1cd657ec3a",
   "metadata": {},
   "outputs": [],
   "source": [
    "from sklearn.linear_model import Lasso\n",
    "from sklearn.model_selection import GridSearchCV, RepeatedKFold, train_test_split\n",
    "\n",
    "def GridCV(X, Y, estimator, grid):\n",
    "    \"\"\"\n",
    "        Function to search for the best hyper-parameter\n",
    "        The same function defined in 02 Notebook\n",
    "    \"\"\"\n",
    "    est = deepcopy(estimator) ## base estimator\n",
    "\n",
    "    ## The cross-validation strategy here is to split into 10 fold\n",
    "    ## and repeat for 3 times\n",
    "    cv = RepeatedKFold(n_splits=10, n_repeats=3)\n",
    "    search = GridSearchCV(estimator, grid, scoring='neg_mean_absolute_error', cv=cv,\n",
    "                          n_jobs=-1)\n",
    "    results = search.fit(X, Y)\n",
    "    return results.best_params_"
   ]
  },
  {
   "cell_type": "markdown",
   "id": "7e67c685-3783-4a1a-be0b-7002977a77e4",
   "metadata": {},
   "source": [
    "**Note**: run the first two cells in correlation graph section (after the tutorial part) for pre-processing and obtaining necessary information."
   ]
  },
  {
   "cell_type": "code",
   "execution_count": 10,
   "id": "5dca3702-4525-4de5-a656-47c52bc1a6c1",
   "metadata": {},
   "outputs": [],
   "source": [
    "## Pre-processing\n",
    "mlip = 'full' ## select a type of MLIP\n",
    "\n",
    "if mlip.lower()=='full':\n",
    "    df = deepcopy(norm_log_data) ## all MLIPs\n",
    "else:\n",
    "    df = norm_log_data.loc[norm_log_data['Models']==mlip]\n",
    "\n",
    "base_estimator = Lasso(max_iter=10000)\n",
    "## Prepare the coefficient matrix\n",
    "coef_matrix = np.zeros((len(properties), len(properties)))\n",
    "r2_scores = []"
   ]
  },
  {
   "cell_type": "markdown",
   "id": "0f680a7c-2886-4858-af65-5479d6034222",
   "metadata": {},
   "source": [
    "**Note**: the order of target properties follows Supplementary Table S13 in Supporting Information, or the first figure in Notebook 01."
   ]
  },
  {
   "cell_type": "code",
   "execution_count": 75,
   "id": "4ffd54b4-7b14-4a59-ae89-6c9d49a2de3e",
   "metadata": {},
   "outputs": [
    {
     "name": "stderr",
     "output_type": "stream",
     "text": [
      "/Users/yunshengliu/miniconda3/envs/intf/lib/python3.9/site-packages/joblib/externals/loky/process_executor.py:752: UserWarning: A worker stopped while some jobs were given to the executor. This can be caused by a too short worker timeout or by a memory leak.\n",
      "  warnings.warn(\n"
     ]
    }
   ],
   "source": [
    "resample = 20\n",
    "## Iterate through all properties\n",
    "## This is actually step 5\n",
    "for ip, p in enumerate(properties):\n",
    "    \"\"\"\n",
    "        Step 1: get all data\n",
    "    \"\"\"\n",
    "    ## Here, all X and Y properties are ordered as Supplementary Table S13\n",
    "    Y_ = [n for n in df[p]]\n",
    "    X_T = [[n for n in df[m]] for m in properties if m!=p]\n",
    "    X_ = np.transpose(X_T)\n",
    "    # print(np.shape(Y_), np.shape(X_))\n",
    "    xs = [m for m in properties if m!=p]\n",
    "\n",
    "    \"\"\"\n",
    "        Step 2: fine-tune hyperparameter alpha\n",
    "    \"\"\"\n",
    "    ## Search for the best hyperparameter\n",
    "    grid = {'alpha': np.logspace(-1.5, 1.5, 31)}\n",
    "    params = GridCV(X_, Y_, base_estimator, grid)\n",
    "    alpha = params['alpha']\n",
    "    \n",
    "    ## To get the averaged coefficients and averaged r2\n",
    "    coefs = []\n",
    "    scores = []\n",
    "    \"\"\"\n",
    "        Step 3: bootstrap resample and train Lasso\n",
    "    \"\"\"\n",
    "    for rs in range(resample):\n",
    "        lasso = Lasso(alpha=alpha, max_iter=10000)\n",
    "        X_train, X_test, y_train, y_test = train_test_split(X_, Y_, test_size=0.33)\n",
    "        lasso.fit(X_train, y_train)\n",
    "        coefs.append(deepcopy([n for n in lasso.coef_]))\n",
    "        scores.append(lasso.score(X_test, y_test))\n",
    "    \n",
    "    ## obtain the Lasso coefficients\n",
    "    coefsT = np.transpose(coefs)\n",
    "    for cfs, x in zip(coefsT, xs):\n",
    "        ## the input error metrics are ordered as Supplementary Table S13\n",
    "        ix = properties.index(x)\n",
    "        \"\"\"\n",
    "            Step 4: take the average of coefficients and R2\n",
    "        \"\"\"\n",
    "        ## The 1st index is Y --> target property\n",
    "        ## The 2nd index is X --> input property\n",
    "        coef_matrix[ip][ix] = np.mean(cfs)\n",
    "    coef_matrix[ip][ip] = np.nan\n",
    "    r2_scores.append(np.mean(scores))"
   ]
  },
  {
   "cell_type": "code",
   "execution_count": 76,
   "id": "4202eb5f-df1d-417b-b480-fcc932710fff",
   "metadata": {},
   "outputs": [],
   "source": [
    "output = open('data/FigSI/{}_pr.json'.format(mlip), 'w')\n",
    "json.dump({'Matrix': coef_matrix.tolist(), 'R2': r2_scores}, output)\n",
    "output.close()"
   ]
  },
  {
   "cell_type": "code",
   "execution_count": 11,
   "id": "560e87c2-5a63-43dd-b194-c05b9dae0928",
   "metadata": {},
   "outputs": [],
   "source": [
    "with open('data/FigSI/{}_pr.json'.format(mlip), 'r') as file:\n",
    "    pr_data = json.load(file)\n",
    "file.close()\n",
    "coef_matrix = pr_data['Matrix']\n",
    "r2_scores = pr_data['R2']"
   ]
  },
  {
   "cell_type": "code",
   "execution_count": 12,
   "id": "81969389-46b4-4d2d-8dee-95edb8bcf4b3",
   "metadata": {},
   "outputs": [
    {
     "name": "stdout",
     "output_type": "stream",
     "text": [
      "-0.73 0.95\n"
     ]
    }
   ],
   "source": [
    "\"\"\"\n",
    "    Prepare the scatter plot of prediction relation matrix.\n",
    "    Note that the order of properties is critical.\n",
    "    Make sure that the coefficients are arranged in the correct order\n",
    "        because it's hard to double check without explicit strings.\n",
    "\"\"\"\n",
    "pxs_ = []\n",
    "pys_ = []\n",
    "pzs_ = []\n",
    "for ix in range(len(properties)):\n",
    "    for iy in range(len(properties)):\n",
    "        pxs_.append(ix)\n",
    "        pys_.append(iy)\n",
    "        ## Y (target property) is 1st element\n",
    "        ## X (input property) is 2nd element\n",
    "        pzs_.append(coef_matrix[iy][ix])\n",
    "## Verify coefficients' range\n",
    "zs = [n for n in pzs_ if not np.isnan(n)]\n",
    "print(round(min(zs), 2), round(max(zs), 2))"
   ]
  },
  {
   "cell_type": "markdown",
   "id": "4f6334b0-8f62-4fcb-bc6a-74cf9209cd7b",
   "metadata": {},
   "source": [
    "**Note**: It's important that coefficients are comparable and reasonable to construct prediction relation graph. Since all error metrics of properties are normalized, including the target and the input error metrics, the coefficients should empirically be reasonable within (-1.5, 1.5). If there're coefficients too large or too small, it's worthwhile to double check and be cautious.  \n",
    "  \n",
    "The figure produced here follows the scheme in *Supplementary Figure S9* and *S10*."
   ]
  },
  {
   "cell_type": "code",
   "execution_count": 15,
   "id": "c7060e0c-07ce-49a5-9f95-6292145a0368",
   "metadata": {},
   "outputs": [
    {
     "data": {
      "image/png": "[encoded data removed]",
      "text/plain": [
       "<Figure size 384x384 with 1 Axes>"
      ]
     },
     "metadata": {},
     "output_type": "display_data"
    }
   ],
   "source": [
    "\"\"\"\n",
    "    Increase the dpi to 300 or more to have a better resolution\n",
    "    and identify the properties following Supplementary Table S13\n",
    "\"\"\"\n",
    "fig = plt.figure(figsize=(3.2, 3.2), dpi=120)\n",
    "ax = plt.subplot(1, 1, 1)\n",
    "points = ax.scatter(pxs_, pys_, c=pzs_, vmin=-1, vmax=1, s=6, marker='s', edgecolors='black', linewidths=0.1,\n",
    "                    cmap='coolwarm')\n",
    "# cbar = plt.colorbar(points)\n",
    "# cbar.set_ticks([-1, -0.5, 0, 0.5, 1])\n",
    "# cbar.ax.set_yticklabels([])\n",
    "ax.set_xlabel('Feature properties X', fontsize=10, labelpad=0.5)\n",
    "ax.set_ylabel('Predicted properties Y', fontsize=10, labelpad=0.5)\n",
    "\n",
    "## Format figures\n",
    "plt.tick_params(axis='both', which='major', labelsize=10, pad=0.5)\n",
    "ax.set_yticks([0, 10, 20, 30, 40, 50, 60])\n",
    "ax.set_yticklabels([], fontsize=10)\n",
    "ax.set_xticks([0, 10, 20, 30, 40, 50, 60])\n",
    "ax.set_xticklabels([0, 10, 20, 30, 40, 50, 60], fontsize=10)\n",
    "# plt.savefig('figureSI/{}_pr-matrix.png'.format(mlip), bbox_inches='tight', dpi=300)\n",
    "plt.show()\n",
    "plt.clf()\n",
    "plt.close()"
   ]
  },
  {
   "cell_type": "markdown",
   "id": "55793835-a4e7-4627-8776-576687e22e46",
   "metadata": {},
   "source": [
    "The $R^{\\mathrm{2}}$ score figure follows the scheme in *Supplementary Figure S9* and *S10*."
   ]
  },
  {
   "cell_type": "code",
   "execution_count": 16,
   "id": "7af9d01c-0c3b-4043-abf7-43d17e7d0281",
   "metadata": {},
   "outputs": [
    {
     "data": {
      "image/png": "[encoded data removed]",
      "text/plain": [
       "<Figure size 24x384 with 2 Axes>"
      ]
     },
     "metadata": {},
     "output_type": "display_data"
    }
   ],
   "source": [
    "fig = plt.figure(figsize=(0.2, 3.2), dpi=120)\n",
    "ax = plt.subplot(1, 1, 1)\n",
    "points = ax.scatter(np.zeros(len(properties)), [n for n in range(len(properties))], c=r2_scores,\n",
    "                    vmin=0, vmax=1, s=5, marker='s', cmap='hot_r', edgecolors='black', linewidths=0.1)\n",
    "cbar = plt.colorbar(points, fraction=1, pad=1.05)\n",
    "cbar.set_ticks([0, 0.2, 0.4, 0.6, 0.8, 1.0])\n",
    "cbar.ax.set_yticklabels([0, 0.2, 0.4, 0.6, 0.8, 1])\n",
    "## Figure format\n",
    "plt.tick_params(axis='both', which='major', labelsize=10, pad=0.5)\n",
    "ax.set_yticks([0, 10, 20, 30, 40, 50, 60])\n",
    "ax.set_yticklabels([], fontsize=10)\n",
    "ax.set_xticks([])\n",
    "ax.set_xticklabels([], fontsize=10)\n",
    "\n",
    "# plt.savefig('figureSI/{}_r2.png'.format(mlip), bbox_inches='tight', dpi=300)\n",
    "plt.show()\n",
    "plt.clf()\n",
    "plt.close()"
   ]
  },
  {
   "cell_type": "markdown",
   "id": "3ab56e96-99df-4977-ad8a-b111cf787a58",
   "metadata": {},
   "source": [
    "### 2.2 Ranking predictivities\n",
    "&emsp; In a prediction relation graph, the importance of a property (a node in the graph) is reflected by both the number of prediction relations it has with other properties and the strengths of its predicition relations. While the strength of a prediction relation (the coefficient of Lasso) indicates the importance of an error metric when making predictions, the number of prediction relations reflects whether the property is generally useful. Overall, the prediction relation graph is a good reflection of properties' capabilities to make predictions, or the predictivities of properties.  \n",
    "&emsp; Such predictivities can be ranked by both counting the prediction relations and considering strengths of prediction relations in a graph. Following this, we adopt the approach described in *evaluating prediciton relations with multiple properties* in Supporting Information and use the Page Rank algorithm to rank the error metrics in prediction relation graphs. The produced prediction relation graphs follow the scheme in *Supplementary Figure S9* and *S11*. The ranking results are described in Supplementary Table S12.  \n",
    "  \n",
    "**Note**: a key step in ranking properties here is to <u>**reverse the direction**</u> of predicition relations in the graph when applying Page Rank algorithm. This is because the Page Rank algorithm emphasizes **incoming** links, while the concept of predictivity emphasizes **outgoing** links. The more relations a property has **to predict** other properties, the more predictivity it has."
   ]
  },
  {
   "cell_type": "markdown",
   "id": "9df35666-2158-4a98-9c5d-ae73c03f261b",
   "metadata": {},
   "source": [
    "**Note**: choices of thresholds  \n",
    "&emsp; We have a threshold for prediction relations to screen the relations that are too weak.  \n",
    "&emsp; We have a threshold for Lasso $R^{\\mathrm{2}}$ scores because we want to include only the Lasso models that are reliable, in which case they have high $R^{\\mathrm{2}}$ scores."
   ]
  },
  {
   "cell_type": "code",
   "execution_count": 80,
   "id": "9c2e31f2-f4e2-49ce-98f6-8c394493a61b",
   "metadata": {},
   "outputs": [
    {
     "name": "stderr",
     "output_type": "stream",
     "text": [
      "/Users/yunshengliu/miniconda3/envs/intf/lib/python3.9/site-packages/pygraphviz/agraph.py:1407: RuntimeWarning: Warning: ['tab is not a known color.\n",
      "\n",
      "  warnings.warn(b\"\".join(errors).decode(self.encoding), RuntimeWarning)\n"
     ]
    }
   ],
   "source": [
    "\"\"\"\n",
    "    Construct a directed graph for Page Rank\n",
    "    The key is to reverse the direction and apply Page Rank\n",
    "\"\"\"\n",
    "## threshold of the absolute values of prediction relations\n",
    "pr_threshold = 0.06\n",
    "## threshold of Lasso R2\n",
    "lasso_threshold = 0.6\n",
    "\n",
    "pr_graph = nx.DiGraph()\n",
    "pr_graph.add_nodes_from(properties, color=node_color)\n",
    "for ipx, px in enumerate(properties):\n",
    "    for ipy, py in enumerate(properties):\n",
    "        if r2_scores[ipy]<lasso_threshold:\n",
    "            continue\n",
    "        if ipx!=ipy:\n",
    "            coef = coef_matrix[ipy][ipx]\n",
    "            if abs(coef)>pr_threshold:\n",
    "                ## Note: reverse the direction\n",
    "                ## Compared with the presented graph below\n",
    "                pr_graph.add_edge(py, px, coef=abs(coef))\n",
    "\n",
    "## Page Rank\n",
    "ranks = nx.pagerank(pr_graph, weight='coef', max_iter=100)\n",
    "rank_result = [(n, ranks[n]) for n in ranks.keys()]\n",
    "rank_result = sorted(rank_result, key=lambda k: k[1], reverse=True)\n",
    "\n",
    "## Positions of properties on the graph\n",
    "pos = nx.nx_agraph.graphviz_layout(pr_graph, prog=\"neato\", args=\"-Gmaxiter=200\")"
   ]
  },
  {
   "cell_type": "code",
   "execution_count": 81,
   "id": "2cd27f4c-955c-445d-976e-1b8e0958aceb",
   "metadata": {},
   "outputs": [],
   "source": [
    "## Output the ranking and coordinate information\n",
    "output = {'Property': [], 'Rank': [], 'X': [], 'Y': []}\n",
    "for rank in rank_result:\n",
    "    output['Property'].append(rank[0])\n",
    "    output['Rank'].append(rank[1])\n",
    "    output['X'].append(pos[rank[0]][0])\n",
    "    output['Y'].append(pos[rank[0]][1])\n",
    "outdf = pds.DataFrame(output)\n",
    "outdf.to_csv('data/FigSI/{}_rank.csv'.format(mlip))"
   ]
  },
  {
   "cell_type": "code",
   "execution_count": 7,
   "id": "4bcfaf5c-c804-4a5c-a140-fb7404146135",
   "metadata": {},
   "outputs": [
    {
     "data": {
      "text/html": [
       "<div>\n",
       "<style scoped>\n",
       "    .dataframe tbody tr th:only-of-type {\n",
       "        vertical-align: middle;\n",
       "    }\n",
       "\n",
       "    .dataframe tbody tr th {\n",
       "        vertical-align: top;\n",
       "    }\n",
       "\n",
       "    .dataframe thead th {\n",
       "        text-align: right;\n",
       "    }\n",
       "</style>\n",
       "<table border=\"1\" class=\"dataframe\">\n",
       "  <thead>\n",
       "    <tr style=\"text-align: right;\">\n",
       "      <th></th>\n",
       "      <th>Property</th>\n",
       "      <th>Rank</th>\n",
       "      <th>X</th>\n",
       "      <th>Y</th>\n",
       "    </tr>\n",
       "  </thead>\n",
       "  <tbody>\n",
       "    <tr>\n",
       "      <th>0</th>\n",
       "      <td>super_c12</td>\n",
       "      <td>0.042339</td>\n",
       "      <td>345.65</td>\n",
       "      <td>212.55</td>\n",
       "    </tr>\n",
       "    <tr>\n",
       "      <th>1</th>\n",
       "      <td>bulk_entropy</td>\n",
       "      <td>0.036050</td>\n",
       "      <td>173.25</td>\n",
       "      <td>255.96</td>\n",
       "    </tr>\n",
       "    <tr>\n",
       "      <th>2</th>\n",
       "      <td>super_c44</td>\n",
       "      <td>0.034396</td>\n",
       "      <td>360.77</td>\n",
       "      <td>259.75</td>\n",
       "    </tr>\n",
       "    <tr>\n",
       "      <th>3</th>\n",
       "      <td>super_bulkmodulus</td>\n",
       "      <td>0.034376</td>\n",
       "      <td>350.09</td>\n",
       "      <td>123.56</td>\n",
       "    </tr>\n",
       "    <tr>\n",
       "      <th>4</th>\n",
       "      <td>vac_c12</td>\n",
       "      <td>0.033412</td>\n",
       "      <td>262.87</td>\n",
       "      <td>201.88</td>\n",
       "    </tr>\n",
       "  </tbody>\n",
       "</table>\n",
       "</div>"
      ],
      "text/plain": [
       "            Property      Rank       X       Y\n",
       "0          super_c12  0.042339  345.65  212.55\n",
       "1       bulk_entropy  0.036050  173.25  255.96\n",
       "2          super_c44  0.034396  360.77  259.75\n",
       "3  super_bulkmodulus  0.034376  350.09  123.56\n",
       "4            vac_c12  0.033412  262.87  201.88"
      ]
     },
     "execution_count": 7,
     "metadata": {},
     "output_type": "execute_result"
    }
   ],
   "source": [
    "## Load the ranking and the position data\n",
    "with open('data/FigSI/{}_pr.json'.format(mlip), 'r') as file:\n",
    "    pr_data = json.load(file)\n",
    "file.close()\n",
    "\n",
    "coef_m = pr_data['Matrix']\n",
    "r2_s = pr_data['R2']\n",
    "\n",
    "rankdf = pds.read_csv('data/FigSI/{}_rank.csv'.format(mlip)).drop(columns=['Unnamed: 0'])\n",
    "rankdf.head()"
   ]
  },
  {
   "cell_type": "code",
   "execution_count": 9,
   "id": "9fe2df11-3703-439b-95a1-f834f8e1b939",
   "metadata": {},
   "outputs": [],
   "source": [
    "## Post-process: get the coordinates and colors\n",
    "total_pos = {}\n",
    "highr_pos = {}\n",
    "total_color = []\n",
    "highr_color = []\n",
    "\n",
    "for pi, (p, x, y) in enumerate(zip(rankdf['Property'], rankdf['X'], rankdf['Y'])):\n",
    "    total_pos[p] = (x, y)\n",
    "    index = properties.index(p)\n",
    "    total_color.append(node_color[index])\n",
    "    if pi<10:\n",
    "        highr_pos[p] = (x, y)\n",
    "        highr_color.append(node_color[index])"
   ]
  },
  {
   "cell_type": "code",
   "execution_count": 10,
   "id": "1557df5b-6308-480c-b752-d49b4ae5dca9",
   "metadata": {},
   "outputs": [],
   "source": [
    "\"\"\"\n",
    "    Construct a directed graph for prediction relations\n",
    "    This is to reproduce figures of S9 and S11.\n",
    "\"\"\"\n",
    "pr_threshold = 0.06\n",
    "lasso_threshold = 0.6\n",
    "dgraph = nx.DiGraph()\n",
    "dgraph.add_nodes_from(rankdf['Property'], color=total_color)\n",
    "for px in rankdf['Property']:\n",
    "    for py in rankdf['Property']:\n",
    "        ipx = properties.index(px)\n",
    "        ipy = properties.index(py)\n",
    "        if r2_s[ipy]<lasso_threshold:\n",
    "            continue\n",
    "        if ipx!=ipy:\n",
    "            coef = coef_m[ipy][ipx]\n",
    "            if abs(coef)>pr_threshold:\n",
    "                dgraph.add_edge(px, py, coef=abs(coef))"
   ]
  },
  {
   "cell_type": "code",
   "execution_count": 11,
   "id": "1d4b6a19-cb13-45b4-9d32-a60bd28c2e3c",
   "metadata": {},
   "outputs": [],
   "source": [
    "high_rank_graph = nx.Graph()\n",
    "high_rank_graph.add_nodes_from(rankdf['Property'][:10], color=highr_color)"
   ]
  },
  {
   "cell_type": "code",
   "execution_count": 12,
   "id": "e7ff384c-dada-4283-8c44-be020dafa8df",
   "metadata": {},
   "outputs": [
    {
     "name": "stdout",
     "output_type": "stream",
     "text": [
      "X: 90 641\n",
      "Y: 18 880\n"
     ]
    },
    {
     "data": {
      "image/png": "[encoded data removed]",
      "text/plain": [
       "<Figure size 384x384 with 1 Axes>"
      ]
     },
     "metadata": {},
     "output_type": "display_data"
    }
   ],
   "source": [
    "fig = plt.figure(figsize=(3.2, 3.2), dpi=120)\n",
    "ax = plt.subplot(1, 1, 1)\n",
    "\n",
    "## Draw all nodes\n",
    "nx.draw_networkx(dgraph, total_pos, node_color=total_color, node_size=36, edgecolors='black',\n",
    "                 linewidths=0.5, edge_color='black', arrowsize=4, width=0.3,\n",
    "                 with_labels=False)\n",
    "## Draw high-rank nodes\n",
    "nx.draw_networkx_nodes(high_rank_graph, pos=highr_pos, node_size=38, linewidths=2,\n",
    "                       node_color=highr_color, edgecolors='tab:cyan')\n",
    "\n",
    "pos_data = [total_pos[k] for k in total_pos.keys()]\n",
    "print('X:', round(min([n[0] for n in pos_data])), round(max([n[0] for n in pos_data])))\n",
    "print('Y:', round(min([n[1] for n in pos_data])), round(max([n[1] for n in pos_data])))\n",
    "\n",
    "# plt.savefig('figureSI/{}_RankingGraph.png'.format(mlip), bbox_inches='tight', dpi=300)\n",
    "plt.show()\n",
    "plt.clf()\n",
    "plt.close()"
   ]
  },
  {
   "cell_type": "markdown",
   "id": "f9762f8e-b337-4a4e-a830-83224a51be03",
   "metadata": {},
   "source": [
    "**Note**: if you wish to know which node corresponds to which property, `dgraph.nodes` contains strings of properties and can be used to add annotations to the graph figure."
   ]
  },
  {
   "cell_type": "code",
   "execution_count": null,
   "id": "01509b48-c7cc-4946-80e4-62cbb43ca5d8",
   "metadata": {},
   "outputs": [],
   "source": []
  }
 ],
 "metadata": {
  "kernelspec": {
   "display_name": "Python 3 (ipykernel)",
   "language": "python",
   "name": "python3"
  },
  "language_info": {
   "codemirror_mode": {
    "name": "ipython",
    "version": 3
   },
   "file_extension": ".py",
   "mimetype": "text/x-python",
   "name": "python",
   "nbconvert_exporter": "python",
   "pygments_lexer": "ipython3",
   "version": "3.9.18"
  }
 },
 "nbformat": 4,
 "nbformat_minor": 5
}
